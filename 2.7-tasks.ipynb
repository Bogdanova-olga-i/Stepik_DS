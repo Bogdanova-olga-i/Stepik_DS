{
 "cells": [
  {
   "cell_type": "code",
   "execution_count": null,
   "metadata": {},
   "outputs": [],
   "source": []
  }
 ],
 "metadata": {
  "kernelspec": {
   "display_name": "base",
   "language": "python",
   "name": "python3"
  },
  "language_info": {
   "name": "python",
   "version": "3.9.12"
  },
  "orig_nbformat": 4,
  "vscode": {
   "interpreter": {
    "hash": "3f6e40cd9fd6a0498f7256e1fb0fea264e2f0558bd9b93d16142a1ae796fcdc9"
   }
  }
 },
 "nbformat": 4,
 "nbformat_minor": 2
}
